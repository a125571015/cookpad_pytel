{
 "cells": [
  {
   "cell_type": "code",
   "execution_count": null,
   "metadata": {},
   "outputs": [],
   "source": [
    "import pandas as pd\n",
    "import os\n",
    "import json\n",
    "import re\n",
    "\n",
    "\n",
    "flist = os.listdir('./cookpad')\n",
    "columns = ['食譜名稱', '說明文', '作者', '料理時間', '所需食材', '料理步驟']\n",
    "data = []\n",
    "\n",
    "for f in flist:\n",
    "    with open('./cookpad/' + f, 'r', encoding='utf-8') as file:\n",
    "        tmp_article_content = file.read()\n",
    "        \n",
    "        \n",
    "        tmp_data_str = tmp_article_content\n",
    "        tmp_data_str_replace=''.join(tmp_data_str.split())\n",
    "    tmp_data = tmp_data_str_replace.split('|')[0:-1]\n",
    "    data.append(tmp_data)\n",
    "#print(data)\n",
    "\n",
    "df = pd.DataFrame(data=data, columns=columns)\n",
    "print(df)\n",
    "\n",
    "df.to_csv('./cookpad_to_csv.csv', index=0, encoding='utf-8-sig')"
   ]
  },
  {
   "cell_type": "code",
   "execution_count": null,
   "metadata": {},
   "outputs": [],
   "source": []
  }
 ],
 "metadata": {
  "kernelspec": {
   "display_name": "Python 3",
   "language": "python",
   "name": "python3"
  },
  "language_info": {
   "codemirror_mode": {
    "name": "ipython",
    "version": 3
   },
   "file_extension": ".py",
   "mimetype": "text/x-python",
   "name": "python",
   "nbconvert_exporter": "python",
   "pygments_lexer": "ipython3",
   "version": "3.7.7"
  }
 },
 "nbformat": 4,
 "nbformat_minor": 4
}
